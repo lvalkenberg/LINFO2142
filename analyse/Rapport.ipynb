{
 "cells": [
  {
   "cell_type": "code",
   "execution_count": 1,
   "metadata": {},
   "outputs": [],
   "source": [
    "import pandas as pd\n",
    "import numpy as np\n",
    "from ast import literal_eval\n",
    "import matplotlib.pyplot as plt\n",
    "from datetime import *\n",
    "import math\n",
    "import matplotlib.ticker as ticker"
   ]
  },
  {
   "cell_type": "code",
   "execution_count": 2,
   "metadata": {},
   "outputs": [],
   "source": [
    "ping_csv = pd.read_csv(\"../data_home/measure_ping.csv\")\n",
    "bw_csv = pd.read_csv(\"../data_home/measure_bw.csv\")\n",
    "weather_csv = pd.read_csv(\"../data_home/measure_weather.csv\")"
   ]
  },
  {
   "cell_type": "code",
   "execution_count": 3,
   "metadata": {},
   "outputs": [],
   "source": [
    "ping_array = np.array(ping_csv)\n",
    "bw_array = np.array(bw_csv)\n",
    "weather_array = np.array(weather_csv)"
   ]
  },
  {
   "cell_type": "markdown",
   "metadata": {},
   "source": [
    "## Fonction"
   ]
  },
  {
   "cell_type": "code",
   "execution_count": 4,
   "metadata": {},
   "outputs": [],
   "source": [
    "def dictonary_to_tuple(dic):\n",
    "    array_tuple = []\n",
    "    for type,mean in dic.items():\n",
    "        if(not math.isnan(mean)):\n",
    "            array_tuple.append((type,mean))\n",
    "    return array_tuple\n",
    "\n",
    "\"\"\"\n",
    "    Work for dictonary with formet : {'key' : x}\n",
    "\"\"\"\n",
    "def print_dict_as_sorted_tuble(dic):\n",
    "    array_tuple = dictonary_to_tuple(dic)\n",
    "    array_tuple.sort(key=lambda tup: tup[1])\n",
    "    print(array_tuple)\n",
    "    return array_tuple\n",
    "\n",
    "def list_with_collumn(matrix, c):\n",
    "    sol = []\n",
    "    for line in matrix:\n",
    "        sol.append(line[c])\n",
    "    return sol"
   ]
  },
  {
   "cell_type": "code",
   "execution_count": 5,
   "metadata": {},
   "outputs": [],
   "source": [
    "\"\"\"\n",
    "    Fusion csv as a np.array of measure and weather_csv : the measure of weather\n",
    "\"\"\"\n",
    "def fusion_with_weather(csv, weather_csv):\n",
    "    fusion = []\n",
    "    index2 = 0\n",
    "    for i in range(len(csv)):\n",
    "        if(index2 >= len(weather_csv)):\n",
    "            return fusion;\n",
    "        date1 = datetime.strptime(csv[i][0][0:13], \"%Y-%m-%d %H\")\n",
    "        date2 = datetime.strptime(weather_csv[index2][0][0:13], \"%Y-%m-%d %H\") + timedelta(hours=1)\n",
    "        if(date1 == date2):\n",
    "            fusion.append(np.ndarray.tolist(csv[i]) + np.ndarray.tolist(weather_csv[index2][1:]))\n",
    "        elif(date1 > date2):\n",
    "            i -= 1\n",
    "            index2 +=1\n",
    "    return fusion\n",
    "\n",
    "\"\"\"\n",
    "    Create a dictionnary with key = weather_type and value the ping measure took with this weather\n",
    "\"\"\"\n",
    "def create_weather_ping_dict(weather_type, ping_weather_array, server=[]):\n",
    "    weather_ping_dict = {}\n",
    "    for type in weather_type:\n",
    "        weather_ping_dict[type] = []\n",
    "\n",
    "    for entry in ping_weather_array:\n",
    "        if(server==[]): #Take ping measure of all servers\n",
    "            weather_ping_dict[entry[6].split(\"/\")[7].split(\".\")[0]].append(entry[0:6])\n",
    "        elif(server != []): #Take only ping of the selected server\n",
    "            if(entry[1] in server):\n",
    "                weather_ping_dict[entry[6].split(\"/\")[7].split(\".\")[0]].append(entry[0:6])\n",
    "    return weather_ping_dict\n",
    "\n",
    "\"\"\"\n",
    "    Compute mean pings of a string array of double, ignore NaN\n",
    "\"\"\"\n",
    "def mean_ping(pings):   \n",
    "    array = literal_eval(pings)\n",
    "    measures = np.array(array).astype(np.double)\n",
    "    \n",
    "    tot = 0\n",
    "    non_nan = 0\n",
    "    for i in range(len(measures)):\n",
    "        if(not math.isnan(measures[i])):\n",
    "            tot += measures[i]\n",
    "            non_nan += 1\n",
    "    if(non_nan == 0):\n",
    "        return float('NaN')\n",
    "    return tot/non_nan\n",
    "\n",
    "\"\"\"\n",
    "    Compute mean ping from a ditonary, ignore NaN\n",
    "\"\"\"\n",
    "def mean_ping_resp_weather(weather_ping_measure_dict, key):\n",
    "    weather_pings = {}\n",
    "    for type in key:\n",
    "        weather_pings[type] = []\n",
    "\n",
    "    for type in weather_ping_measure_dict.keys():\n",
    "        tot = 0\n",
    "        non_nan = 0;\n",
    "        for mes in weather_ping_measure_dict[type]:\n",
    "            mean = mean_ping(mes[2])\n",
    "            if(math.isnan(mean)):\n",
    "                continue\n",
    "            tot += mean_ping(mes[2])\n",
    "            non_nan += 1;\n",
    "        if(non_nan == 0):\n",
    "            print(\"ALL measurement are NaN\")\n",
    "            weather_pings[type] = float('NaN')\n",
    "        else:    \n",
    "            weather_pings[type] = tot/non_nan\n",
    "    return weather_pings\n",
    "\n",
    "\"\"\"\n",
    "    dict {\"weather\" : [all pings]} from dict from create_weather_ping_dict\n",
    "\"\"\"\n",
    "def dict_weather_all_pings(dic):\n",
    "    weather_pings = {}\n",
    "    for key in dic.keys():\n",
    "        weather_pings[key] = []\n",
    "        tmp = []\n",
    "        for mes in dic[key]:\n",
    "            ping_string = mes[2].replace('[','')\n",
    "            ping_string = ping_string.replace(']','')\n",
    "            ping_string = ping_string.replace(\" 'NaN',\",'') #remove NaN\n",
    "            ping_string = ping_string.replace(\", 'NaN'\",'') #remove NaN\n",
    "            ping_string = ping_string.replace(\"'NaN',\",'') #remove NaN\n",
    "            pings = np.fromstring(ping_string, sep=',').tolist()\n",
    "            tmp += pings\n",
    "        weather_pings[key] = tmp\n",
    "    return weather_pings\n",
    "\n",
    "\"\"\"\n",
    "    Create a dictionnary with key = weather_type and value the bw measure took with this weather\n",
    "\"\"\"\n",
    "def create_weather_bw_dict(weather_type, bw_weather_array):\n",
    "    weather_bw_dict = {}\n",
    "    for type in weather_type:\n",
    "        weather_bw_dict[type] = []\n",
    "\n",
    "    for entry in bw_weather_array:\n",
    "        weather_bw_dict[entry[9].split(\"/\")[7].split(\".\")[0]].append(entry[0:8])\n",
    "    return weather_bw_dict\n",
    "\n",
    "\"\"\"\n",
    "    Compute mean bw depending of the weather\n",
    "\"\"\"\n",
    "def mean_bw_resp_weather(weather_bw_measure_dict, dl_up):\n",
    "    weather_bw = {}\n",
    "    for type in weather_bw_measure_dict.keys():\n",
    "        tot = 0\n",
    "        if(len(weather_bw_measure_dict[type]) != 0):\n",
    "            weather_bw[type] = []\n",
    "            for mes in weather_bw_measure_dict[type]:\n",
    "                if(dl_up == \"dl\"):\n",
    "                    tot += float(mes[5])\n",
    "                elif(dl_up == \"up\"):\n",
    "                    tot += float(mes[6])\n",
    "            weather_bw[type] = tot/len(weather_bw_measure_dict[type])\n",
    "    return weather_bw\n",
    "\n",
    "\"\"\"\n",
    "    dict {\"weather\" : [all dl ou up measure]} from dict from create_weather_bw_dict\n",
    "\"\"\"\n",
    "def dict_weather_all_bw(dic, dl_up):\n",
    "    weather_bw = {}\n",
    "    for key in dic.keys():\n",
    "        weather_bw[key] = []\n",
    "        for mes in dic[key]:\n",
    "            if(dl_up == \"dl\"):\n",
    "                weather_bw[key].append(float(mes[5]))\n",
    "            if(dl_up == \"up\"):\n",
    "                weather_bw[key].append(float(mes[6]))  \n",
    "    return weather_bw"
   ]
  },
  {
   "cell_type": "markdown",
   "metadata": {},
   "source": [
    "## Data"
   ]
  },
  {
   "cell_type": "markdown",
   "metadata": {},
   "source": [
    "### Serveur"
   ]
  },
  {
   "cell_type": "code",
   "execution_count": 6,
   "metadata": {},
   "outputs": [
    {
     "name": "stdout",
     "output_type": "stream",
     "text": [
      "['iperf.biznetnetworks.com', 'iperf.eenet.ee', 'iperf.scottlinux.com', 'lille.testdebit.info', 'speedtest.serverius.net', 'speedtest.uztelecom.uz']\n"
     ]
    }
   ],
   "source": [
    "full_serv = ['iperf.biznetnetworks.com','iperf.scottlinux.com','iperf.eenet.ee','speedtest.uztelecom.uz'] # serv with 8 days of data -> more representatif\n",
    "servers = np.unique(ping_array[:,1]).tolist()\n",
    "if(\"iperf.par2.as49434.net\" in servers):\n",
    "    servers.remove(\"iperf.par2.as49434.net\") # remove iperf.par2.as49434.net because it stop working\n",
    "print(servers)"
   ]
  },
  {
   "cell_type": "markdown",
   "metadata": {},
   "source": [
    "### Météo"
   ]
  },
  {
   "cell_type": "code",
   "execution_count": 7,
   "metadata": {},
   "outputs": [
    {
     "name": "stdout",
     "output_type": "stream",
     "text": [
      "Type de météo collecté :\n",
      "\n",
      "['cloudy' 'cover' 'lightcloudy' 'lightrain' 'mostcloudy' 'rain' 'rainsnow']\n"
     ]
    }
   ],
   "source": [
    "weather_cond = np.unique(weather_array[:,1])\n",
    "weather_type = []\n",
    "for cond in weather_cond:\n",
    "    weather_type.append(cond.split(\"/\")[7].split(\".\")[0])\n",
    "weather_type = np.unique(weather_type)\n",
    "\n",
    "print(\"Type de météo collecté :\\n\")\n",
    "print(weather_type)"
   ]
  },
  {
   "cell_type": "code",
   "execution_count": 8,
   "metadata": {},
   "outputs": [
    {
     "name": "stdout",
     "output_type": "stream",
     "text": [
      "nombre de mesures pour chaque type de météo :\n",
      "\n",
      "[('rainsnow', 2), ('rain', 6), ('lightcloudy', 7), ('mostcloudy', 20), ('cloudy', 23), ('cover', 36), ('lightrain', 41)]\n"
     ]
    },
    {
     "data": {
      "text/plain": [
       "[('rainsnow', 2),\n",
       " ('rain', 6),\n",
       " ('lightcloudy', 7),\n",
       " ('mostcloudy', 20),\n",
       " ('cloudy', 23),\n",
       " ('cover', 36),\n",
       " ('lightrain', 41)]"
      ]
     },
     "execution_count": 8,
     "metadata": {},
     "output_type": "execute_result"
    }
   ],
   "source": [
    "weather_type_measurment = {}\n",
    "for type in weather_type:\n",
    "    weather_type_measurment[type] = 0\n",
    "    \n",
    "for entry in weather_array:\n",
    "    weather_type_measurment[entry[1].split(\"/\")[7].split(\".\")[0]] += 1;\n",
    "    \n",
    "print(\"nombre de mesures pour chaque type de météo :\\n\")  \n",
    "print_dict_as_sorted_tuble(weather_type_measurment)"
   ]
  },
  {
   "cell_type": "markdown",
   "metadata": {},
   "source": [
    "### Pings"
   ]
  },
  {
   "cell_type": "markdown",
   "metadata": {},
   "source": [
    "**Ne pas faire d'analyse de ping sur l'ensemble des serveurs car on a changer la liste des serveur en cours de mesure -> biais sur la météo**"
   ]
  },
  {
   "cell_type": "code",
   "execution_count": 9,
   "metadata": {},
   "outputs": [],
   "source": [
    "serv = 'iperf.eenet.ee'"
   ]
  },
  {
   "cell_type": "code",
   "execution_count": 10,
   "metadata": {},
   "outputs": [],
   "source": [
    "ping_weather_array = fusion_with_weather(ping_array, weather_array) #Array fusionné\n",
    "weather_ping_measure_dict = create_weather_ping_dict(weather_type, ping_weather_array, [serv]) #Dict {\"weather\" : [ping measure]}"
   ]
  },
  {
   "cell_type": "code",
   "execution_count": 11,
   "metadata": {},
   "outputs": [
    {
     "name": "stderr",
     "output_type": "stream",
     "text": [
      "<ipython-input-5-40dbcb098a67>:90: DeprecationWarning: string or file could not be read to its end due to unmatched data; this will raise a ValueError in the future.\n",
      "  pings = np.fromstring(ping_string, sep=',').tolist()\n"
     ]
    }
   ],
   "source": [
    "weather_pings = dict_weather_all_pings(weather_ping_measure_dict)"
   ]
  },
  {
   "cell_type": "markdown",
   "metadata": {},
   "source": [
    "Compute mean pings :"
   ]
  },
  {
   "cell_type": "code",
   "execution_count": 12,
   "metadata": {},
   "outputs": [
    {
     "name": "stdout",
     "output_type": "stream",
     "text": [
      "{'cloudy': 0.042431637250889116, 'cover': 0.042512768958196626, 'lightcloudy': 0.04249684537263739, 'lightrain': 0.042723694409524615, 'mostcloudy': 0.042462361765094415, 'rain': 0.042438716689745574, 'rainsnow': 0.042357506752014155}\n",
      "[('rainsnow', 0.042357506752014155), ('cloudy', 0.042431637250889116), ('rain', 0.042438716689745574), ('mostcloudy', 0.042462361765094415), ('lightcloudy', 0.04249684537263739), ('cover', 0.042512768958196626), ('lightrain', 0.042723694409524615)]\n"
     ]
    }
   ],
   "source": [
    "weather_mean_pings = mean_ping_resp_weather(weather_ping_measure_dict, weather_type)\n",
    "print(weather_mean_pings)\n",
    "weather_sorted_by_mean_ping = print_dict_as_sorted_tuble(weather_mean_pings) #if no data, no entry"
   ]
  },
  {
   "cell_type": "markdown",
   "metadata": {},
   "source": [
    "**Plot**"
   ]
  },
  {
   "cell_type": "code",
   "execution_count": 13,
   "metadata": {},
   "outputs": [
    {
     "name": "stderr",
     "output_type": "stream",
     "text": [
      "<ipython-input-13-217b1e17dc1d>:7: UserWarning: FixedFormatter should only be used together with FixedLocator\n",
      "  ax.set_xticklabels(list_with_collumn(weather_sorted_by_mean_ping,0))\n"
     ]
    },
    {
     "data": {
      "image/png": "[encoded data removed]",
      "text/plain": [
       "<Figure size 504x432 with 1 Axes>"
      ]
     },
     "metadata": {
      "needs_background": "light"
     },
     "output_type": "display_data"
    }
   ],
   "source": [
    "xl = len(weather_sorted_by_mean_ping)\n",
    "graphe_scale = weather_sorted_by_mean_ping[xl-1][1]*2\n",
    "\n",
    "fig, ax = plt.subplots(figsize=(xl, 6))\n",
    "\n",
    "#labels\n",
    "ax.set_xticklabels(list_with_collumn(weather_sorted_by_mean_ping,0))\n",
    "plt.ylim(0,graphe_scale)\n",
    "ax.yaxis.grid()\n",
    "\n",
    "scale_y = 1000\n",
    "ylab = ax.get_xlabel()\n",
    "ticks_y = ticker.FuncFormatter(lambda y, pos: '{0:g}'.format(y*scale_y))\n",
    "ax.yaxis.set_major_formatter(ticks_y)\n",
    "\n",
    "#boxplot\n",
    "for i in range(xl):\n",
    "    bp = ax.boxplot(weather_pings[weather_sorted_by_mean_ping[i][0]], positions = [i], widths=0.5, showmeans = True, showfliers=False)\n",
    "plt.title('pings measurments according to weather conditions (' + serv + ')', fontweight='bold')\n",
    "plt.ylabel('Latency [ms]', fontweight='bold')\n",
    "plt.xlabel('Weather conditions', fontweight='bold')\n",
    "\n",
    "if(serv in full_serv):\n",
    "    #text\n",
    "    for i in range(xl):\n",
    "        lab = ax.text(i, graphe_scale/50,weather_type_measurment[weather_sorted_by_mean_ping[i][0]] , horizontalalignment='center',size='medium', weight='bold',color=\"grey\")\n",
    "\n",
    "    plt.figtext(0.51, 0.03, '(number of measurment [hour])', fontsize='medium', color='gray', ha ='center', weight='bold')\n",
    "\n",
    "#legend\n",
    "plt.legend([bp['medians'][0], bp['means'][0]], ['median', 'mean'])\n",
    "\n",
    "#save\n",
    "#plt.savefig('../plot/'+ serv +'.pdf')  \n",
    "\n",
    "plt.show()"
   ]
  },
  {
   "cell_type": "markdown",
   "metadata": {},
   "source": [
    "### Bande passante"
   ]
  },
  {
   "cell_type": "code",
   "execution_count": 14,
   "metadata": {},
   "outputs": [],
   "source": [
    "bw_weather_array = fusion_with_weather(bw_array, weather_array)"
   ]
  },
  {
   "cell_type": "markdown",
   "metadata": {},
   "source": [
    "Remove NaN from bw_weather_array"
   ]
  },
  {
   "cell_type": "code",
   "execution_count": 15,
   "metadata": {},
   "outputs": [],
   "source": [
    "to_delete = []\n",
    "for i in range(len(bw_weather_array)):\n",
    "    if(pd.isna(bw_weather_array[i][1])):\n",
    "        to_delete.append(i)\n",
    "bw_weather_array = np.delete(bw_weather_array, to_delete, axis=0)"
   ]
  },
  {
   "cell_type": "code",
   "execution_count": 16,
   "metadata": {},
   "outputs": [],
   "source": [
    "weather_bw_dict = create_weather_bw_dict(weather_type, bw_weather_array)\n",
    "weather_dl = dict_weather_all_bw(weather_bw_dict,'dl')\n",
    "weather_up = dict_weather_all_bw(weather_bw_dict,'up')"
   ]
  },
  {
   "cell_type": "code",
   "execution_count": 17,
   "metadata": {},
   "outputs": [
    {
     "name": "stdout",
     "output_type": "stream",
     "text": [
      "mean download : \n",
      "\n",
      "[('rainsnow', 61199440.07388234), ('mostcloudy', 67124608.2615704), ('cloudy', 68073881.88127536), ('cover', 70245752.45069051), ('lightrain', 70966426.2629628), ('rain', 75347311.84736365), ('lightcloudy', 75389117.93675509)]\n",
      "\n",
      "\n",
      "\n",
      "mean upload : \n",
      "\n",
      "[('mostcloudy', 14612295.778831474), ('cloudy', 14716762.017177377), ('rainsnow', 14897271.106170213), ('lightcloudy', 15171041.173257211), ('lightrain', 15592817.705262855), ('cover', 15698846.591502886), ('rain', 15901346.090636062)]\n"
     ]
    }
   ],
   "source": [
    "weather_mean_dl = mean_bw_resp_weather(weather_bw_dict,'dl')\n",
    "print('mean download : \\n')\n",
    "weather_sorted_by_mean_dl = print_dict_as_sorted_tuble(weather_mean_dl) #if no data, no entry\n",
    "print(\"\\n\\n\")\n",
    "weather_mean_up = mean_bw_resp_weather(weather_bw_dict,'up')\n",
    "print('mean upload : \\n')\n",
    "weather_sorted_by_mean_up = print_dict_as_sorted_tuble(weather_mean_up) #if no data, no entry"
   ]
  },
  {
   "cell_type": "markdown",
   "metadata": {},
   "source": [
    "**Plot Download**"
   ]
  },
  {
   "cell_type": "code",
   "execution_count": 18,
   "metadata": {},
   "outputs": [
    {
     "name": "stderr",
     "output_type": "stream",
     "text": [
      "<ipython-input-18-176588d47899>:7: UserWarning: FixedFormatter should only be used together with FixedLocator\n",
      "  ax.set_xticklabels(list_with_collumn(weather_sorted_by_mean_dl,0))\n"
     ]
    },
    {
     "data": {
      "image/png": "[encoded data removed]",
      "text/plain": [
       "<Figure size 504x432 with 1 Axes>"
      ]
     },
     "metadata": {
      "needs_background": "light"
     },
     "output_type": "display_data"
    }
   ],
   "source": [
    "xl = len(weather_sorted_by_mean_dl)\n",
    "graphe_scale = weather_sorted_by_mean_dl[xl-1][1]*2\n",
    "\n",
    "fig, ax = plt.subplots(figsize=(xl, 6))\n",
    "\n",
    "#labels\n",
    "ax.set_xticklabels(list_with_collumn(weather_sorted_by_mean_dl,0))\n",
    "plt.ylim(0,graphe_scale)\n",
    "ax.yaxis.grid()\n",
    "\n",
    "scale_y = 1_000_000\n",
    "ylab = ax.get_xlabel()\n",
    "ticks_y = ticker.FuncFormatter(lambda y, pos: '{0:g}'.format(y/scale_y))\n",
    "ax.yaxis.set_major_formatter(ticks_y)\n",
    "\n",
    "#boxplot\n",
    "for i in range(xl):\n",
    "    bp = ax.boxplot(weather_dl[weather_sorted_by_mean_dl[i][0]], positions = [i], widths=0.5, showmeans = True, showfliers=False)\n",
    "plt.title('Download measurments according to weather conditions', fontweight='bold')\n",
    "plt.ylabel('Downloads [Mb/s]', fontweight='bold')\n",
    "plt.xlabel('Weather conditions', fontweight='bold')\n",
    "\n",
    "#text\n",
    "for i in range(xl):\n",
    "    lab = ax.text(i, graphe_scale/50,weather_type_measurment[weather_sorted_by_mean_dl[i][0]] , horizontalalignment='center',size='medium', weight='bold',color=\"grey\")\n",
    "\n",
    "plt.figtext(0.51, 0.03, '(number of measurment [hour])', fontsize='medium', color='gray', ha ='center', weight='bold')\n",
    "\n",
    "#legend\n",
    "plt.legend([bp['medians'][0], bp['means'][0]], ['median', 'mean'])\n",
    "\n",
    "#save\n",
    "plt.savefig('../plot/download_home.pdf')  \n",
    "\n",
    "plt.show()"
   ]
  },
  {
   "cell_type": "markdown",
   "metadata": {},
   "source": [
    "**Plot Upload**"
   ]
  },
  {
   "cell_type": "code",
   "execution_count": 19,
   "metadata": {},
   "outputs": [
    {
     "name": "stderr",
     "output_type": "stream",
     "text": [
      "<ipython-input-19-a8f703928ca4>:7: UserWarning: FixedFormatter should only be used together with FixedLocator\n",
      "  ax.set_xticklabels(list_with_collumn(weather_sorted_by_mean_up,0))\n"
     ]
    },
    {
     "data": {
      "image/png": "[encoded data removed]",
      "text/plain": [
       "<Figure size 504x432 with 1 Axes>"
      ]
     },
     "metadata": {
      "needs_background": "light"
     },
     "output_type": "display_data"
    }
   ],
   "source": [
    "xl = len(weather_sorted_by_mean_up)\n",
    "graphe_scale = weather_sorted_by_mean_up[xl-1][1]*2\n",
    "\n",
    "fig, ax = plt.subplots(figsize=(xl, 6))\n",
    "\n",
    "#labels\n",
    "ax.set_xticklabels(list_with_collumn(weather_sorted_by_mean_up,0))\n",
    "plt.ylim(0,graphe_scale)\n",
    "ax.yaxis.grid()\n",
    "\n",
    "scale_y = 1_000_000\n",
    "ylab = ax.get_xlabel()\n",
    "ticks_y = ticker.FuncFormatter(lambda y, pos: '{0:g}'.format(y/scale_y))\n",
    "ax.yaxis.set_major_formatter(ticks_y)\n",
    "\n",
    "#boxplot\n",
    "for i in range(xl):\n",
    "    bp = ax.boxplot(weather_up[weather_sorted_by_mean_up[i][0]], positions = [i], widths=0.5, showmeans = True, showfliers=False)\n",
    "plt.title('Upload measurments according to weather conditions', fontweight='bold')\n",
    "plt.ylabel('Upload [Mb/s]', fontweight='bold')\n",
    "plt.xlabel('Weather conditions', fontweight='bold')\n",
    "\n",
    "#text\n",
    "for i in range(xl):\n",
    "    lab = ax.text(i, graphe_scale/50,weather_type_measurment[weather_sorted_by_mean_up[i][0]] , horizontalalignment='center',size='medium', weight='bold',color=\"grey\")\n",
    "\n",
    "plt.figtext(0.51, 0.03, '(number of measurment [hour])', fontsize='medium', color='gray', ha ='center', weight='bold')\n",
    "\n",
    "#legend\n",
    "plt.legend([bp['medians'][0], bp['means'][0]], ['median', 'mean'])\n",
    "\n",
    "#save\n",
    "plt.savefig('../plot/upload_home.pdf')  \n",
    "\n",
    "plt.show()"
   ]
  },
  {
   "cell_type": "code",
   "execution_count": null,
   "metadata": {},
   "outputs": [],
   "source": []
  }
 ],
 "metadata": {
  "kernelspec": {
   "display_name": "Python 3",
   "language": "python",
   "name": "python3"
  },
  "language_info": {
   "codemirror_mode": {
    "name": "ipython",
    "version": 3
   },
   "file_extension": ".py",
   "mimetype": "text/x-python",
   "name": "python",
   "nbconvert_exporter": "python",
   "pygments_lexer": "ipython3",
   "version": "3.8.5"
  }
 },
 "nbformat": 4,
 "nbformat_minor": 4
}
