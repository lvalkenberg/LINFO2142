{
 "cells": [
  {
   "cell_type": "code",
   "execution_count": 1,
   "metadata": {},
   "outputs": [],
   "source": [
    "import pandas as pd\n",
    "import numpy as np\n",
    "from ast import literal_eval\n",
    "import matplotlib.pyplot as plt\n",
    "from datetime import *\n",
    "import math\n",
    "import matplotlib.ticker as ticker"
   ]
  },
  {
   "cell_type": "code",
   "execution_count": 2,
   "metadata": {},
   "outputs": [],
   "source": [
    "ping_csv = pd.read_csv(\"../data_fusion/measure_ping.csv\")\n",
    "bw_csv = pd.read_csv(\"../data_fusion/measure_bw.csv\")\n",
    "weather_csv = pd.read_csv(\"../data_fusion/measure_weather.csv\")"
   ]
  },
  {
   "cell_type": "code",
   "execution_count": 3,
   "metadata": {},
   "outputs": [],
   "source": [
    "ping_array = np.array(ping_csv)\n",
    "bw_array = np.array(bw_csv)\n",
    "weather_array = np.array(weather_csv)"
   ]
  },
  {
   "cell_type": "markdown",
   "metadata": {},
   "source": [
    "## Fonction"
   ]
  },
  {
   "cell_type": "code",
   "execution_count": 4,
   "metadata": {},
   "outputs": [],
   "source": [
    "def dictonary_to_tuple(dic):\n",
    "    array_tuple = []\n",
    "    for type,mean in dic.items():\n",
    "        array_tuple.append((type,mean))\n",
    "    return array_tuple\n",
    "\n",
    "\"\"\"\n",
    "    Work for dictonary with formet : {'key' : x}\n",
    "\"\"\"\n",
    "def print_dict_as_sorted_tuble(dic):\n",
    "    array_tuple = dictonary_to_tuple(dic)\n",
    "    array_tuple.sort(key=lambda tup: tup[1])\n",
    "    print(array_tuple)\n",
    "    return array_tuple\n",
    "\n",
    "def list_with_collumn(matrix, c):\n",
    "    sol = []\n",
    "    for line in matrix:\n",
    "        sol.append(line[c])\n",
    "    return sol"
   ]
  },
  {
   "cell_type": "code",
   "execution_count": 5,
   "metadata": {},
   "outputs": [],
   "source": [
    "\"\"\"\n",
    "    Fusion csv as a np.array of measure and weather_csv : the measure of weather\n",
    "\"\"\"\n",
    "def fusion_with_weather(csv, weather_csv):\n",
    "    fusion = []\n",
    "    index2 = 0\n",
    "    for i in range(len(csv)):\n",
    "        if(index2 >= len(weather_csv)):\n",
    "            return fusion;\n",
    "        date1 = datetime.strptime(csv[i][0][0:13], \"%Y-%m-%d %H\")\n",
    "        date2 = datetime.strptime(weather_csv[index2][0][0:13], \"%Y-%m-%d %H\") + timedelta(hours=1)\n",
    "        if(date1 == date2):\n",
    "            fusion.append(np.ndarray.tolist(csv[i]) + np.ndarray.tolist(weather_csv[index2][1:]))\n",
    "        elif(date1 > date2):\n",
    "            i -= 1\n",
    "            index2 +=1\n",
    "    return fusion\n",
    "\n",
    "\"\"\"\n",
    "    Create a dictionnary with key = weather_type and value the ping measure took with this weather\n",
    "\"\"\"\n",
    "def create_weather_ping_dict(weather_type, ping_weather_array, server=[]):\n",
    "    weather_ping_dict = {}\n",
    "    for type in weather_type:\n",
    "        weather_ping_dict[type] = []\n",
    "\n",
    "    for entry in ping_weather_array:\n",
    "        if(server==[]): #Take ping measure of all servers\n",
    "            weather_ping_dict[entry[6].split(\"/\")[7].split(\".\")[0]].append(entry[0:6])\n",
    "        elif(server != []): #Take only ping of the selected server\n",
    "            if(entry[1] in server):\n",
    "                weather_ping_dict[entry[6].split(\"/\")[7].split(\".\")[0]].append(entry[0:6])\n",
    "    return weather_ping_dict\n",
    "\n",
    "\"\"\"\n",
    "    Compute mean pings of a string array of double, ignore NaN\n",
    "\"\"\"\n",
    "def mean_ping(pings):   \n",
    "    array = literal_eval(pings)\n",
    "    measures = np.array(array).astype(np.double)\n",
    "    \n",
    "    tot = 0\n",
    "    non_nan = 0\n",
    "    for i in range(len(measures)):\n",
    "        if(not math.isnan(measures[i])):\n",
    "            tot += measures[i]\n",
    "            non_nan += 1\n",
    "    if(non_nan == 0):\n",
    "        return float('NaN')\n",
    "    return tot/non_nan\n",
    "\n",
    "\"\"\"\n",
    "    Compute mean ping from a ditonary, ignore NaN\n",
    "\"\"\"\n",
    "def mean_ping_resp_weather(weather_ping_measure_dict, key):\n",
    "    weather_pings = {}\n",
    "    for type in key:\n",
    "        weather_pings[type] = []\n",
    "\n",
    "    for type in weather_ping_measure_dict.keys():\n",
    "        tot = 0\n",
    "        non_nan = 0;\n",
    "        for mes in weather_ping_measure_dict[type]:\n",
    "            mean = mean_ping(mes[2])\n",
    "            if(math.isnan(mean)):\n",
    "                continue\n",
    "            tot += mean_ping(mes[2])\n",
    "            non_nan += 1;\n",
    "        if(non_nan == 0):\n",
    "            print(\"ALL measurement are NaN\")\n",
    "            weather_pings[type] = 'NaN'\n",
    "        weather_pings[type] = tot/non_nan\n",
    "    return weather_pings\n",
    "\n",
    "\"\"\"\n",
    "    dict {\"weather\" : [all pings]} from dict from create_weather_ping_dict\n",
    "\"\"\"\n",
    "def dict_weather_all_pings(dic):\n",
    "    weather_pings = {}\n",
    "    for key in dic.keys():\n",
    "        weather_pings[key] = []\n",
    "        tmp = []\n",
    "        for mes in dic[key]:\n",
    "            ping_string = mes[2].replace('[','')\n",
    "            ping_string = ping_string.replace(']','')\n",
    "            ping_string = ping_string.replace(\" 'NaN',\",'') #remove NaN\n",
    "            ping_string = ping_string.replace(\", 'NaN'\",'') #remove NaN\n",
    "            ping_string = ping_string.replace(\"'NaN',\",'') #remove NaN\n",
    "            pings = np.fromstring(ping_string, sep=',').tolist()\n",
    "            tmp += pings\n",
    "        weather_pings[key] = tmp\n",
    "    return weather_pings"
   ]
  },
  {
   "cell_type": "markdown",
   "metadata": {},
   "source": [
    "## Data"
   ]
  },
  {
   "cell_type": "markdown",
   "metadata": {},
   "source": [
    "### Serveur"
   ]
  },
  {
   "cell_type": "code",
   "execution_count": 6,
   "metadata": {},
   "outputs": [
    {
     "name": "stdout",
     "output_type": "stream",
     "text": [
      "['iperf.biznetnetworks.com', 'iperf.eenet.ee', 'iperf.scottlinux.com', 'lille.testdebit.info', 'speedtest.serverius.net', 'speedtest.uztelecom.uz']\n"
     ]
    }
   ],
   "source": [
    "servers = np.unique(ping_array[:,1]).tolist()\n",
    "servers.remove(\"iperf.par2.as49434.net\") # remove iperf.par2.as49434.net because it stop working\n",
    "print(servers)"
   ]
  },
  {
   "cell_type": "markdown",
   "metadata": {},
   "source": [
    "### Météo"
   ]
  },
  {
   "cell_type": "code",
   "execution_count": 7,
   "metadata": {},
   "outputs": [
    {
     "name": "stdout",
     "output_type": "stream",
     "text": [
      "Type de météo collecté :\n",
      "\n",
      "['cloudy' 'cover' 'lightcloudy' 'lightrain' 'lightsun' 'mostcloudy' 'rain'\n",
      " 'rainsnow' 'sun']\n"
     ]
    }
   ],
   "source": [
    "weather_cond = np.unique(weather_array[:,1])\n",
    "weather_type = []\n",
    "for cond in weather_cond:\n",
    "    weather_type.append(cond.split(\"/\")[7].split(\".\")[0])\n",
    "weather_type = np.unique(weather_type)\n",
    "\n",
    "print(\"Type de météo collecté :\\n\")\n",
    "print(weather_type)"
   ]
  },
  {
   "cell_type": "code",
   "execution_count": 8,
   "metadata": {},
   "outputs": [
    {
     "name": "stdout",
     "output_type": "stream",
     "text": [
      "nombre de mesures pour chaque type de météo :\n",
      "\n",
      "[('rainsnow', 1), ('lightsun', 2), ('rain', 4), ('mostcloudy', 20), ('lightrain', 21), ('sun', 24), ('lightcloudy', 26), ('cloudy', 40), ('cover', 50)]\n"
     ]
    },
    {
     "data": {
      "text/plain": [
       "[('rainsnow', 1),\n",
       " ('lightsun', 2),\n",
       " ('rain', 4),\n",
       " ('mostcloudy', 20),\n",
       " ('lightrain', 21),\n",
       " ('sun', 24),\n",
       " ('lightcloudy', 26),\n",
       " ('cloudy', 40),\n",
       " ('cover', 50)]"
      ]
     },
     "execution_count": 8,
     "metadata": {},
     "output_type": "execute_result"
    }
   ],
   "source": [
    "weather_type_measurment = {}\n",
    "for type in weather_type:\n",
    "    weather_type_measurment[type] = 0\n",
    "    \n",
    "for entry in weather_array:\n",
    "    weather_type_measurment[entry[1].split(\"/\")[7].split(\".\")[0]] += 1;\n",
    "    \n",
    "print(\"nombre de mesures pour chaque type de météo :\\n\")  \n",
    "print_dict_as_sorted_tuble(weather_type_measurment)"
   ]
  },
  {
   "cell_type": "markdown",
   "metadata": {},
   "source": [
    "### Pings"
   ]
  },
  {
   "cell_type": "markdown",
   "metadata": {},
   "source": [
    "**Ne pas faire d'analyse de ping sur l'ensemble des serveurs car on a changer la liste des serveur en cours de mesure -> biais sur la météo**"
   ]
  },
  {
   "cell_type": "code",
   "execution_count": 9,
   "metadata": {},
   "outputs": [],
   "source": [
    "ping_weather_array = fusion_with_weather(ping_array, weather_array) #Array fusionné\n",
    "weather_ping_measure_dict = create_weather_ping_dict(weather_type, ping_weather_array, ['iperf.eenet.ee']) #Dict {\"weather\" : [ping measure]}"
   ]
  },
  {
   "cell_type": "code",
   "execution_count": 10,
   "metadata": {},
   "outputs": [
    {
     "name": "stderr",
     "output_type": "stream",
     "text": [
      "<ipython-input-5-0c18dc2da368>:89: DeprecationWarning: string or file could not be read to its end due to unmatched data; this will raise a ValueError in the future.\n",
      "  pings = np.fromstring(ping_string, sep=',').tolist()\n"
     ]
    }
   ],
   "source": [
    "weather_pings = dict_weather_all_pings(weather_ping_measure_dict)"
   ]
  },
  {
   "cell_type": "markdown",
   "metadata": {},
   "source": [
    "Compute mean pings :"
   ]
  },
  {
   "cell_type": "code",
   "execution_count": 11,
   "metadata": {},
   "outputs": [
    {
     "name": "stdout",
     "output_type": "stream",
     "text": [
      "[('sun', 0.06919595773340897), ('lightsun', 0.06990960259186596), ('lightcloudy', 0.07149543407240717), ('cover', 0.07158991321056542), ('rainsnow', 0.07348780989646912), ('cloudy', 0.07355409053858775), ('rain', 0.07611465063811088), ('mostcloudy', 0.07652318205912816), ('lightrain', 0.08040187760506418)]\n"
     ]
    }
   ],
   "source": [
    "weather_mean_pings = mean_ping_resp_weather(weather_ping_measure_dict, weather_type)\n",
    "weather_sorted_by_mean_ping = print_dict_as_sorted_tuble(weather_mean_pings)"
   ]
  },
  {
   "cell_type": "code",
   "execution_count": 34,
   "metadata": {},
   "outputs": [
    {
     "name": "stderr",
     "output_type": "stream",
     "text": [
      "<ipython-input-34-c87734b1febc>:6: UserWarning: FixedFormatter should only be used together with FixedLocator\n",
      "  ax.set_xticklabels(list_with_collumn(weather_sorted_by_mean_ping,0))\n"
     ]
    },
    {
     "data": {
      "image/png": "[encoded data removed]",
      "text/plain": [
       "<Figure size 648x432 with 1 Axes>"
      ]
     },
     "metadata": {
      "needs_background": "light"
     },
     "output_type": "display_data"
    }
   ],
   "source": [
    "xl = len(weather_type)\n",
    "\n",
    "fig, ax = plt.subplots(figsize=(xl, 6))\n",
    "\n",
    "#labels\n",
    "ax.set_xticklabels(list_with_collumn(weather_sorted_by_mean_ping,0))\n",
    "plt.ylim(0,0.15)\n",
    "ax.yaxis.grid()\n",
    "\n",
    "scale_y = 1000\n",
    "ylab = ax.get_xlabel()\n",
    "ticks_y = ticker.FuncFormatter(lambda y, pos: '{0:g}'.format(y*scale_y))\n",
    "ax.yaxis.set_major_formatter(ticks_y)\n",
    "\n",
    "#boxplot\n",
    "for i in range(xl):\n",
    "    bp = ax.boxplot(weather_pings[weather_sorted_by_mean_ping[i][0]], positions = [i], widths=0.5, showmeans = True, showfliers=False)\n",
    "plt.title('pings measurments according to weather conditions', fontweight='bold')\n",
    "plt.ylabel('Latency [ms]', fontweight='bold')\n",
    "plt.xlabel('Weather conditions', fontweight='bold')\n",
    "\n",
    "#text\n",
    "for i in range(xl):\n",
    "    lab = ax.text(i, .001,weather_type_measurment[weather_sorted_by_mean_ping[i][0]] , horizontalalignment='center',size='medium', weight='bold',color=\"grey\")\n",
    "\n",
    "plt.figtext(0.51, 0.03, '(number of measurment [hour])', fontsize='medium', color='gray', ha ='center', weight='bold')\n",
    "    \n",
    "#legend\n",
    "plt.legend([bp['medians'][0], bp['means'][0]], ['median', 'mean'])\n",
    "#save\n",
    "plt.savefig('../plot/iperf.eenet.ee.pdf')  \n",
    "\n",
    "plt.show()"
   ]
  },
  {
   "cell_type": "code",
   "execution_count": null,
   "metadata": {},
   "outputs": [],
   "source": []
  }
 ],
 "metadata": {
  "kernelspec": {
   "display_name": "Python 3",
   "language": "python",
   "name": "python3"
  },
  "language_info": {
   "codemirror_mode": {
    "name": "ipython",
    "version": 3
   },
   "file_extension": ".py",
   "mimetype": "text/x-python",
   "name": "python",
   "nbconvert_exporter": "python",
   "pygments_lexer": "ipython3",
   "version": "3.8.5"
  }
 },
 "nbformat": 4,
 "nbformat_minor": 4
}
