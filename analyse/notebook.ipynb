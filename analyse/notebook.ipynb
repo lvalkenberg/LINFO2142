{
 "cells": [
  {
   "cell_type": "code",
   "execution_count": 1,
   "metadata": {},
   "outputs": [],
   "source": [
    "import pandas as pd\n",
    "import numpy as np\n",
    "from ast import literal_eval\n",
    "import matplotlib.pyplot as plt\n",
    "from datetime import *\n",
    "import math"
   ]
  },
  {
   "cell_type": "code",
   "execution_count": 2,
   "metadata": {},
   "outputs": [],
   "source": [
    "ping_csv = pd.read_csv(\"../data/measure_ping.csv\")\n",
    "bw_csv = pd.read_csv(\"../data/measure_bw.csv\")\n",
    "weather_csv = pd.read_csv(\"../data/measure_weather.csv\")"
   ]
  },
  {
   "cell_type": "markdown",
   "metadata": {},
   "source": [
    "### Weather conditions"
   ]
  },
  {
   "cell_type": "code",
   "execution_count": 3,
   "metadata": {},
   "outputs": [
    {
     "name": "stdout",
     "output_type": "stream",
     "text": [
      "['/staticfiles/images/picto/v2/bc/day/cloudy.png'\n",
      " '/staticfiles/images/picto/v2/bc/day/cover.png'\n",
      " '/staticfiles/images/picto/v2/bc/day/lightcloudy.png'\n",
      " '/staticfiles/images/picto/v2/bc/day/lightrain.png'\n",
      " '/staticfiles/images/picto/v2/bc/day/rain.png'\n",
      " '/staticfiles/images/picto/v2/bc/day/sun.png'\n",
      " '/staticfiles/images/picto/v2/bc/night/cloudy.png'\n",
      " '/staticfiles/images/picto/v2/bc/night/cover.png'\n",
      " '/staticfiles/images/picto/v2/bc/night/lightcloudy.png'\n",
      " '/staticfiles/images/picto/v2/bc/night/lightsun.png'\n",
      " '/staticfiles/images/picto/v2/bc/night/mostcloudy.png'\n",
      " '/staticfiles/images/picto/v2/bc/night/sun.png']\n"
     ]
    }
   ],
   "source": [
    "weather_array = np.array(weather_csv)\n",
    "weather_cond = np.unique(weather_array[:,1])\n",
    "print(weather_cond)"
   ]
  },
  {
   "cell_type": "code",
   "execution_count": 4,
   "metadata": {},
   "outputs": [
    {
     "name": "stdout",
     "output_type": "stream",
     "text": [
      "['cloudy' 'cover' 'lightcloudy' 'lightrain' 'lightsun' 'mostcloudy' 'rain'\n",
      " 'sun']\n"
     ]
    }
   ],
   "source": [
    "weather_type = []\n",
    "for cond in weather_cond:\n",
    "    weather_type.append(cond.split(\"/\")[7].split(\".\")[0])\n",
    "weather_type = np.unique(weather_type)\n",
    "print(weather_type)\n",
    "    "
   ]
  },
  {
   "cell_type": "markdown",
   "metadata": {},
   "source": [
    "Fusion of the ping measure and the weather measure in one matrix"
   ]
  },
  {
   "cell_type": "code",
   "execution_count": 5,
   "metadata": {},
   "outputs": [],
   "source": [
    "\"\"\"\n",
    "    Fusion csv1 as a np.array of measure and csv2 the measure of weather\n",
    "\"\"\"\n",
    "def fusion_with_weather(csv1, csv2):\n",
    "    fusion = []\n",
    "    index2 = 0\n",
    "    for i in range(len(csv1)):\n",
    "        if(index2 >= len(csv2)):\n",
    "            return fusion;\n",
    "        date1 = datetime.strptime(csv1[i][0][0:13], \"%Y-%m-%d %H\")\n",
    "        date2 = datetime.strptime(csv2[index2][0][0:13], \"%Y-%m-%d %H\") + timedelta(hours=1)\n",
    "        if(date1 == date2):\n",
    "            # print(np.ndarray.tolist(csv1[i]) + np.ndarray.tolist(csv2[index2][1:]))\n",
    "            fusion.append(np.ndarray.tolist(csv1[i]) + np.ndarray.tolist(csv2[index2][1:]))\n",
    "        elif(date1 > date2):\n",
    "            i -= 1\n",
    "            index2 +=1\n",
    "    return fusion"
   ]
  },
  {
   "cell_type": "code",
   "execution_count": 6,
   "metadata": {},
   "outputs": [],
   "source": [
    "ping_array = np.array(ping_csv)\n",
    "ping_weather_array = fusion_with_weather(np.array(ping_csv), np.array(weather_csv))"
   ]
  },
  {
   "cell_type": "markdown",
   "metadata": {},
   "source": [
    "Create a dictionnary { 'weather condition' : '[ping measure]' }"
   ]
  },
  {
   "cell_type": "code",
   "execution_count": 7,
   "metadata": {},
   "outputs": [],
   "source": [
    "weather_ping_dict = {}\n",
    "for type in weather_type:\n",
    "    weather_ping_dict[type] = []\n",
    "\n",
    "for entry in ping_weather_array:\n",
    "    weather_ping_dict[entry[6].split(\"/\")[7].split(\".\")[0]].append(entry[0:5])"
   ]
  },
  {
   "cell_type": "code",
   "execution_count": 18,
   "metadata": {},
   "outputs": [],
   "source": [
    "\"\"\"\n",
    "    Compute mean pings of a string array of double, ignore NaN\n",
    "\"\"\"\n",
    "def mean_ping(pings):   \n",
    "    array = literal_eval(pings)\n",
    "    measures = np.array(array).astype(np.double)\n",
    "    \n",
    "    tot = 0\n",
    "    non_nan = 0\n",
    "    for i in range(len(measures)):\n",
    "        if(not math.isnan(measures[i])):\n",
    "            tot += measures[i]\n",
    "            non_nan += 1\n",
    "    if(non_nan == 0):\n",
    "        return float('NaN')\n",
    "    return tot/non_nan"
   ]
  },
  {
   "cell_type": "code",
   "execution_count": 20,
   "metadata": {},
   "outputs": [
    {
     "name": "stdout",
     "output_type": "stream",
     "text": [
      "{'cloudy': 0.1483807408548644, 'cover': 0.1463721185033537, 'lightcloudy': 0.14720876095590732, 'lightrain': 0.14449552542797084, 'lightsun': 0.1447602755273067, 'mostcloudy': 0.1473016696252833, 'rain': 0.14434405683062643, 'sun': 0.14622336385252435}\n"
     ]
    }
   ],
   "source": [
    "weather_pings = {}\n",
    "for type in weather_type:\n",
    "    weather_pings[type] = []\n",
    "    \n",
    "for type in weather_ping_dict.keys():\n",
    "    tot = 0\n",
    "    non_nan = 0;\n",
    "    for mes in weather_ping_dict[type]:\n",
    "        mean = mean_ping(mes[2])\n",
    "        if(math.isnan(mean)):\n",
    "            continue\n",
    "        tot += mean_ping(mes[2])\n",
    "        non_nan += 1;\n",
    "    if(non_nan == 0):\n",
    "        print(\"ALL measurement are NaN\")\n",
    "        weather_pings[type] = 'NaN'\n",
    "    weather_pings[type] = tot/non_nan\n",
    "\n",
    "print(weather_pings)"
   ]
  },
  {
   "cell_type": "markdown",
   "metadata": {},
   "source": [
    "Sorted weather type acording to mean ping delay"
   ]
  },
  {
   "cell_type": "code",
   "execution_count": 25,
   "metadata": {},
   "outputs": [
    {
     "name": "stdout",
     "output_type": "stream",
     "text": [
      "[('cloudy', 0.1483807408548644), ('cover', 0.1463721185033537), ('lightcloudy', 0.14720876095590732), ('lightrain', 0.14449552542797084), ('lightsun', 0.1447602755273067), ('mostcloudy', 0.1473016696252833), ('rain', 0.14434405683062643), ('sun', 0.14622336385252435)]\n"
     ]
    }
   ],
   "source": [
    "array_tuple = []\n",
    "for type,mean in weather_pings.items():\n",
    "    array_tuple.append((type,mean))\n",
    "array_tuple.sort()\n",
    "print(array_tuple)"
   ]
  },
  {
   "cell_type": "code",
   "execution_count": null,
   "metadata": {},
   "outputs": [],
   "source": []
  }
 ],
 "metadata": {
  "kernelspec": {
   "display_name": "Python 3",
   "language": "python",
   "name": "python3"
  },
  "language_info": {
   "codemirror_mode": {
    "name": "ipython",
    "version": 3
   },
   "file_extension": ".py",
   "mimetype": "text/x-python",
   "name": "python",
   "nbconvert_exporter": "python",
   "pygments_lexer": "ipython3",
   "version": "3.8.5"
  }
 },
 "nbformat": 4,
 "nbformat_minor": 4
}
