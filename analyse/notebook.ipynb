{
 "cells": [
  {
   "cell_type": "code",
   "execution_count": 1,
   "metadata": {},
   "outputs": [],
   "source": [
    "import pandas as pd\n",
    "import numpy as np\n",
    "from ast import literal_eval\n",
    "import matplotlib.pyplot as plt\n",
    "from datetime import *\n",
    "import math"
   ]
  },
  {
   "cell_type": "code",
   "execution_count": 2,
   "metadata": {},
   "outputs": [],
   "source": [
    "ping_csv = pd.read_csv(\"../data/measure_ping.csv\")\n",
    "bw_csv = pd.read_csv(\"../data/measure_bw.csv\")\n",
    "weather_csv = pd.read_csv(\"../data/measure_weather.csv\")"
   ]
  },
  {
   "cell_type": "markdown",
   "metadata": {},
   "source": [
    "# Impact of weather on ping"
   ]
  },
  {
   "cell_type": "code",
   "execution_count": 3,
   "metadata": {},
   "outputs": [
    {
     "name": "stdout",
     "output_type": "stream",
     "text": [
      "['/staticfiles/images/picto/v2/bc/day/cloudy.png'\n",
      " '/staticfiles/images/picto/v2/bc/day/cover.png'\n",
      " '/staticfiles/images/picto/v2/bc/day/lightcloudy.png'\n",
      " '/staticfiles/images/picto/v2/bc/day/lightrain.png'\n",
      " '/staticfiles/images/picto/v2/bc/day/rain.png'\n",
      " '/staticfiles/images/picto/v2/bc/day/sun.png'\n",
      " '/staticfiles/images/picto/v2/bc/night/cloudy.png'\n",
      " '/staticfiles/images/picto/v2/bc/night/cover.png'\n",
      " '/staticfiles/images/picto/v2/bc/night/lightcloudy.png'\n",
      " '/staticfiles/images/picto/v2/bc/night/lightsun.png'\n",
      " '/staticfiles/images/picto/v2/bc/night/mostcloudy.png'\n",
      " '/staticfiles/images/picto/v2/bc/night/sun.png']\n"
     ]
    }
   ],
   "source": [
    "weather_array = np.array(weather_csv)\n",
    "weather_cond = np.unique(weather_array[:,1])\n",
    "print(weather_cond)"
   ]
  },
  {
   "cell_type": "code",
   "execution_count": 4,
   "metadata": {},
   "outputs": [
    {
     "name": "stdout",
     "output_type": "stream",
     "text": [
      "['cloudy' 'cover' 'lightcloudy' 'lightrain' 'lightsun' 'mostcloudy' 'rain'\n",
      " 'sun']\n"
     ]
    }
   ],
   "source": [
    "weather_type = []\n",
    "for cond in weather_cond:\n",
    "    weather_type.append(cond.split(\"/\")[7].split(\".\")[0])\n",
    "weather_type = np.unique(weather_type)\n",
    "print(weather_type)"
   ]
  },
  {
   "cell_type": "markdown",
   "metadata": {},
   "source": [
    "**Fusion** of the ping measure and the weather measure in one matrix"
   ]
  },
  {
   "cell_type": "code",
   "execution_count": 5,
   "metadata": {},
   "outputs": [],
   "source": [
    "\"\"\"\n",
    "    Fusion csv as a np.array of measure and weather_csv : the measure of weather\n",
    "\"\"\"\n",
    "def fusion_with_weather(csv, weather_csv):\n",
    "    fusion = []\n",
    "    index2 = 0\n",
    "    for i in range(len(csv)):\n",
    "        if(index2 >= len(weather_csv)):\n",
    "            return fusion;\n",
    "        date1 = datetime.strptime(csv[i][0][0:13], \"%Y-%m-%d %H\")\n",
    "        date2 = datetime.strptime(csv2[index2][0][0:13], \"%Y-%m-%d %H\") + timedelta(hours=1)\n",
    "        if(date1 == date2):\n",
    "            fusion.append(np.ndarray.tolist(csv[i]) + np.ndarray.tolist(weather_csv[index2][1:]))\n",
    "        elif(date1 > date2):\n",
    "            i -= 1\n",
    "            index2 +=1\n",
    "    return fusion"
   ]
  },
  {
   "cell_type": "code",
   "execution_count": 6,
   "metadata": {},
   "outputs": [],
   "source": [
    "ping_array = np.array(ping_csv)\n",
    "ping_weather_array = fusion_with_weather(np.array(ping_csv), np.array(weather_csv))"
   ]
  },
  {
   "cell_type": "markdown",
   "metadata": {},
   "source": [
    "Create a dictionnary { 'weather condition' : '[ping measure]' }"
   ]
  },
  {
   "cell_type": "code",
   "execution_count": 7,
   "metadata": {},
   "outputs": [],
   "source": [
    "\"\"\"\n",
    "    Create a dictionnary with key = weather_type and value the ping measure took with this weather\n",
    "\"\"\"\n",
    "def create_weather_ping_dict(weather_type, ping_weather_array, server=[]):\n",
    "    weather_ping_dict = {}\n",
    "    for type in weather_type:\n",
    "        weather_ping_dict[type] = []\n",
    "\n",
    "    for entry in ping_weather_array:\n",
    "        if(server==[]): #Take ping measure of all servers\n",
    "            weather_ping_dict[entry[6].split(\"/\")[7].split(\".\")[0]].append(entry[0:6])\n",
    "        elif(server != []): #Take only ping of the selected server\n",
    "            if(entry[1] in server):\n",
    "                weather_ping_dict[entry[6].split(\"/\")[7].split(\".\")[0]].append(entry[0:6])\n",
    "    return weather_ping_dict"
   ]
  },
  {
   "cell_type": "code",
   "execution_count": 8,
   "metadata": {},
   "outputs": [],
   "source": [
    "\"\"\"\n",
    "    Compute mean pings of a string array of double, ignore NaN\n",
    "\"\"\"\n",
    "def mean_ping(pings):   \n",
    "    array = literal_eval(pings)\n",
    "    measures = np.array(array).astype(np.double)\n",
    "    \n",
    "    tot = 0\n",
    "    non_nan = 0\n",
    "    for i in range(len(measures)):\n",
    "        if(not math.isnan(measures[i])):\n",
    "            tot += measures[i]\n",
    "            non_nan += 1\n",
    "    if(non_nan == 0):\n",
    "        return float('NaN')\n",
    "    return tot/non_nan"
   ]
  },
  {
   "cell_type": "code",
   "execution_count": 9,
   "metadata": {},
   "outputs": [],
   "source": [
    "def mean_ping_resp_weather(weather_ping_measure_dict, key):\n",
    "    weather_pings = {}\n",
    "    for type in key:\n",
    "        weather_pings[type] = []\n",
    "\n",
    "    for type in weather_ping_measure_dict.keys():\n",
    "        tot = 0\n",
    "        non_nan = 0;\n",
    "        for mes in weather_ping_measure_dict[type]:\n",
    "            mean = mean_ping(mes[2])\n",
    "            if(math.isnan(mean)):\n",
    "                continue\n",
    "            tot += mean_ping(mes[2])\n",
    "            non_nan += 1;\n",
    "        if(non_nan == 0):\n",
    "            print(\"ALL measurement are NaN\")\n",
    "            weather_pings[type] = 'NaN'\n",
    "        weather_pings[type] = tot/non_nan\n",
    "    return weather_pings"
   ]
  },
  {
   "cell_type": "code",
   "execution_count": 10,
   "metadata": {},
   "outputs": [],
   "source": [
    "def dictonary_to_tuple(dic):\n",
    "    array_tuple = []\n",
    "    for type,mean in dic.items():\n",
    "        array_tuple.append((type,mean))\n",
    "    return array_tuple"
   ]
  },
  {
   "cell_type": "markdown",
   "metadata": {},
   "source": [
    "Servers list :"
   ]
  },
  {
   "cell_type": "code",
   "execution_count": 11,
   "metadata": {},
   "outputs": [
    {
     "name": "stdout",
     "output_type": "stream",
     "text": [
      "['iperf.biznetnetworks.com', 'iperf.eenet.ee', 'iperf.scottlinux.com', 'speedtest.uztelecom.uz']\n"
     ]
    }
   ],
   "source": [
    "ping_weather_array = np.array(ping_weather_array)\n",
    "servers = np.unique(ping_weather_array[:,1]).tolist()\n",
    "servers.remove(\"iperf.par2.as49434.net\") # remove iperf.par2.as49434.net because it stop working\n",
    "print(servers)"
   ]
  },
  {
   "cell_type": "markdown",
   "metadata": {},
   "source": [
    "### Wheather measurment"
   ]
  },
  {
   "cell_type": "code",
   "execution_count": 12,
   "metadata": {},
   "outputs": [
    {
     "name": "stdout",
     "output_type": "stream",
     "text": [
      "[('mostcloudy', 1), ('rain', 1), ('lightsun', 2), ('lightrain', 4), ('cloudy', 17), ('lightcloudy', 19), ('sun', 24), ('cover', 27)]\n"
     ]
    }
   ],
   "source": [
    "weather_array = np.array(weather_csv)\n",
    "weather_type_measurment = {}\n",
    "for type in weather_type:\n",
    "    weather_type_measurment[type] = 0\n",
    "    \n",
    "for entry in weather_array:\n",
    "    weather_type_measurment[entry[1].split(\"/\")[7].split(\".\")[0]] += 1;\n",
    "    \n",
    "array_tuple = dictonary_to_tuple(weather_type_measurment)\n",
    "array_tuple.sort(key=lambda tup: tup[1])\n",
    "print(array_tuple)    "
   ]
  },
  {
   "cell_type": "markdown",
   "metadata": {},
   "source": [
    "### Ping all servers"
   ]
  },
  {
   "cell_type": "code",
   "execution_count": 13,
   "metadata": {},
   "outputs": [],
   "source": [
    "weather_ping_measure_dict = create_weather_ping_dict(weather_type, ping_weather_array)\n",
    "weather_pings = mean_ping_resp_weather(weather_ping_measure_dict, weather_type)"
   ]
  },
  {
   "cell_type": "code",
   "execution_count": 14,
   "metadata": {},
   "outputs": [
    {
     "name": "stdout",
     "output_type": "stream",
     "text": [
      "[('rain', 0.14434405683062643), ('lightrain', 0.14449552542797084), ('lightsun', 0.1447602755273067), ('sun', 0.14622336385252435), ('cover', 0.1463721185033537), ('lightcloudy', 0.14720876095590732), ('mostcloudy', 0.1473016696252833), ('cloudy', 0.1483807408548644)]\n"
     ]
    }
   ],
   "source": [
    "array_tuple = dictonary_to_tuple(weather_pings)\n",
    "array_tuple.sort(key=lambda tup: tup[1])\n",
    "print(array_tuple)"
   ]
  },
  {
   "cell_type": "code",
   "execution_count": 15,
   "metadata": {},
   "outputs": [
    {
     "data": {
      "image/png": "[encoded data removed]",
      "text/plain": [
       "<Figure size 432x288 with 1 Axes>"
      ]
     },
     "metadata": {
      "needs_background": "light"
     },
     "output_type": "display_data"
    }
   ],
   "source": [
    "plt.bar(*zip(*array_tuple))\n",
    "plt.ylim(array_tuple[0][1]*0.99, array_tuple[len(array_tuple)-1][1])\n",
    "plt.show()"
   ]
  },
  {
   "cell_type": "markdown",
   "metadata": {},
   "source": [
    "### Ping each servers"
   ]
  },
  {
   "cell_type": "markdown",
   "metadata": {},
   "source": [
    "Compute mean ping depending of the weather for all **independent SERVER**"
   ]
  },
  {
   "cell_type": "code",
   "execution_count": 16,
   "metadata": {},
   "outputs": [
    {
     "name": "stdout",
     "output_type": "stream",
     "text": [
      "iperf.biznetnetworks.com\n",
      "[('lightsun', 0.2719573360681534), ('cover', 0.27594645735787343), ('cloudy', 0.27771484117139217), ('rain', 0.27778483271598814), ('lightrain', 0.27802987456321715), ('sun', 0.279971942379054), ('mostcloudy', 0.2809595537185669), ('lightcloudy', 0.2836514140661403)]\n",
      "\n",
      "iperf.eenet.ee\n",
      "[('lightrain', 0.06659990247927214), ('rain', 0.06690799625296341), ('cover', 0.06810699030437431), ('lightcloudy', 0.06845395388695673), ('cloudy', 0.0689934900513402), ('sun', 0.06919595773340897), ('lightsun', 0.06990960259186596), ('mostcloudy', 0.07024613305142051)]\n",
      "\n",
      "iperf.scottlinux.com\n",
      "[('rain', 0.18626684257858675), ('cover', 0.1877378650834097), ('sun', 0.18817749524064228), ('lightsun', 0.18845660890403546), ('cloudy', 0.18851298886200615), ('lightrain', 0.18856424303431257), ('mostcloudy', 0.1888383377853193), ('lightcloudy', 0.18919713694633208)]\n",
      "\n",
      "speedtest.uztelecom.uz\n",
      "[('lightrain', 0.1311832876111332), ('rain', 0.1334008467197418), ('cover', 0.1341295921570144), ('sun', 0.13528520994280505), ('lightcloudy', 0.13543975895461613), ('cloudy', 0.13570820485097077), ('lightsun', 0.13739555060863495), ('mostcloudy', 0.13752171039581298)]\n",
      "\n"
     ]
    }
   ],
   "source": [
    "for SERVER in servers:\n",
    "    weather_ping_measure_dict = create_weather_ping_dict(weather_type, ping_weather_array, [SERVER])\n",
    "    weather_pings = mean_ping_resp_weather(weather_ping_measure_dict, weather_type)\n",
    "    array_tuple = dictonary_to_tuple(weather_pings)\n",
    "    array_tuple.sort(key=lambda tup: tup[1])\n",
    "    print(SERVER)\n",
    "    print(array_tuple)\n",
    "    print()"
   ]
  },
  {
   "cell_type": "markdown",
   "metadata": {},
   "source": [
    "## Packet lost"
   ]
  },
  {
   "cell_type": "code",
   "execution_count": 17,
   "metadata": {},
   "outputs": [],
   "source": [
    "def mean_lost_resp_weather(weather_ping_measure_dict):\n",
    "    weather_losts = {}\n",
    "    for type in weather_type:\n",
    "        weather_losts[type] = []\n",
    "\n",
    "    for type in weather_ping_measure_dict.keys():\n",
    "        tot = 0\n",
    "        for mes in weather_ping_measure_dict[type]:\n",
    "            tot += float(mes[3])\n",
    "        weather_losts[type] = tot/len(weather_ping_measure_dict[type])\n",
    "    return weather_losts"
   ]
  },
  {
   "cell_type": "markdown",
   "metadata": {},
   "source": [
    "### Form all servers (except \"iperf.par2.as49434.net\")"
   ]
  },
  {
   "cell_type": "code",
   "execution_count": 18,
   "metadata": {},
   "outputs": [
    {
     "name": "stdout",
     "output_type": "stream",
     "text": [
      "[('lightrain', 0.0021874999999999998), ('lightcloudy', 0.003684210526315787), ('mostcloudy', 0.0037500000000000007), ('rain', 0.0037500000000000007), ('cloudy', 0.004089506172839504), ('sun', 0.004635416666666661), ('lightsun', 0.004999999999999999), ('cover', 0.005601851851851843)]\n"
     ]
    }
   ],
   "source": [
    "weather_ping_measure_dict = create_weather_ping_dict(weather_type, ping_weather_array, servers)\n",
    "weather_losts = mean_lost_resp_weather(weather_ping_measure_dict)\n",
    "array_tuple = dictonary_to_tuple(weather_losts)\n",
    "array_tuple.sort(key=lambda tup: tup[1])\n",
    "print(array_tuple)"
   ]
  },
  {
   "cell_type": "markdown",
   "metadata": {},
   "source": [
    "### Form each servers"
   ]
  },
  {
   "cell_type": "code",
   "execution_count": 19,
   "metadata": {},
   "outputs": [
    {
     "name": "stdout",
     "output_type": "stream",
     "text": [
      "iperf.biznetnetworks.com\n",
      "[('lightrain', 0.0), ('lightsun', 0.0), ('mostcloudy', 0.0), ('rain', 0.0), ('lightcloudy', 0.0010526315789473684), ('cloudy', 0.0018518518518518517), ('cover', 0.002037037037037037), ('sun', 0.0033333333333333335)]\n",
      "\n",
      "iperf.eenet.ee\n",
      "[('lightrain', 0.0025), ('lightcloudy', 0.004736842105263159), ('mostcloudy', 0.005), ('rain', 0.005), ('cover', 0.005740740740740743), ('cloudy', 0.006481481481481483), ('sun', 0.0068750000000000035), ('lightsun', 0.015)]\n",
      "\n",
      "iperf.scottlinux.com\n",
      "[('lightrain', 0.005), ('lightsun', 0.005), ('cloudy', 0.006790123456790125), ('sun', 0.007708333333333337), ('lightcloudy', 0.00842105263157895), ('mostcloudy', 0.01), ('rain', 0.01), ('cover', 0.013333333333333315)]\n",
      "\n",
      "speedtest.uztelecom.uz\n",
      "[('lightsun', 0.0), ('mostcloudy', 0.0), ('rain', 0.0), ('lightcloudy', 0.0005263157894736842), ('sun', 0.0006250000000000001), ('cloudy', 0.0012345679012345679), ('lightrain', 0.00125), ('cover', 0.0012962962962962963)]\n",
      "\n"
     ]
    }
   ],
   "source": [
    "for SERVER in servers:\n",
    "    weather_ping_measure_dict = create_weather_ping_dict(weather_type, ping_weather_array, [SERVER])\n",
    "    weather_losts = mean_lost_resp_weather(weather_ping_measure_dict)\n",
    "    array_tuple = dictonary_to_tuple(weather_losts)\n",
    "    array_tuple.sort(key=lambda tup: tup[1])\n",
    "    print(SERVER)\n",
    "    print(array_tuple)\n",
    "    print()"
   ]
  },
  {
   "cell_type": "markdown",
   "metadata": {},
   "source": [
    "## Error"
   ]
  },
  {
   "cell_type": "code",
   "execution_count": 20,
   "metadata": {},
   "outputs": [],
   "source": [
    "def mean_error_resp_weather(weather_ping_measure_dict):\n",
    "    weather_error = {}\n",
    "    for type in weather_type:\n",
    "        weather_error[type] = []\n",
    "\n",
    "    for type in weather_ping_measure_dict.keys():\n",
    "        tot = 0\n",
    "        for mes in weather_ping_measure_dict[type]:\n",
    "            tot += int(mes[5])\n",
    "        weather_error[type] = tot/len(weather_ping_measure_dict[type])\n",
    "    return weather_error"
   ]
  },
  {
   "cell_type": "code",
   "execution_count": 21,
   "metadata": {},
   "outputs": [
    {
     "name": "stdout",
     "output_type": "stream",
     "text": [
      "[('cloudy', 0.0), ('cover', 0.0), ('lightcloudy', 0.0), ('lightrain', 0.0), ('lightsun', 0.0), ('mostcloudy', 0.0), ('rain', 0.0), ('sun', 0.0)]\n"
     ]
    }
   ],
   "source": [
    "weather_ping_measure_dict = create_weather_ping_dict(weather_type, ping_weather_array, servers)\n",
    "weather_error = mean_error_resp_weather(weather_ping_measure_dict)\n",
    "array_tuple = dictonary_to_tuple(weather_error)\n",
    "array_tuple.sort(key=lambda tup: tup[1])\n",
    "print(array_tuple)"
   ]
  },
  {
   "cell_type": "markdown",
   "metadata": {},
   "source": [
    "No error in the measurments"
   ]
  },
  {
   "cell_type": "markdown",
   "metadata": {},
   "source": [
    "## Number of measurment"
   ]
  },
  {
   "cell_type": "code",
   "execution_count": 22,
   "metadata": {},
   "outputs": [],
   "source": [
    "def measurment_resp_weather(weather_ping_measure_dict):\n",
    "    weather_measurment = {}\n",
    "    for type in weather_type:\n",
    "        weather_measurment[type] = []\n",
    "\n",
    "    for type in weather_ping_measure_dict.keys():\n",
    "        tot = 0\n",
    "        for mes in weather_ping_measure_dict[type]:\n",
    "            tot += int(mes[4])\n",
    "        weather_measurment[type] = tot\n",
    "    return weather_measurment"
   ]
  },
  {
   "cell_type": "code",
   "execution_count": 23,
   "metadata": {},
   "outputs": [
    {
     "name": "stdout",
     "output_type": "stream",
     "text": [
      "[('mostcloudy', 200), ('rain', 200), ('lightsun', 400), ('lightrain', 800), ('cloudy', 3240), ('lightcloudy', 3800), ('sun', 4800), ('cover', 5400)]\n"
     ]
    }
   ],
   "source": [
    "weather_ping_measure_dict = create_weather_ping_dict(weather_type, ping_weather_array, servers[0])\n",
    "weather_measurment = measurment_resp_weather(weather_ping_measure_dict)\n",
    "array_tuple = dictonary_to_tuple(weather_measurment)\n",
    "array_tuple.sort(key=lambda tup: tup[1])\n",
    "print(array_tuple)"
   ]
  },
  {
   "cell_type": "markdown",
   "metadata": {},
   "source": [
    "## Time of the day on ping"
   ]
  },
  {
   "cell_type": "code",
   "execution_count": 24,
   "metadata": {},
   "outputs": [],
   "source": [
    "day_time = [\"day\", \"night\"]"
   ]
  },
  {
   "cell_type": "code",
   "execution_count": 25,
   "metadata": {},
   "outputs": [],
   "source": [
    "\"\"\"\n",
    "    Create a dictionnary with key = day_time and value the ping measure took with this weather\n",
    "\"\"\"\n",
    "def create_day_ping_dict(day_time, ping_weather_array, server=[]):\n",
    "    day_ping_dict = {}\n",
    "    for type in day_time:\n",
    "        day_ping_dict[type] = []\n",
    "\n",
    "    for entry in ping_weather_array:\n",
    "        if(server==[]): #Take ping measure of all servers\n",
    "            day_ping_dict[entry[6].split(\"/\")[6]].append(entry[0:6])\n",
    "        elif(server != []): #Take only ping of the selected server\n",
    "            if(entry[1] in server):\n",
    "                day_ping_dict[entry[6].split(\"/\")[6]].append(entry[0:6])\n",
    "    return day_ping_dict"
   ]
  },
  {
   "cell_type": "code",
   "execution_count": 26,
   "metadata": {},
   "outputs": [
    {
     "name": "stdout",
     "output_type": "stream",
     "text": [
      "[('night', 0.1675416648549827), ('day', 0.1679688685376312)]\n"
     ]
    }
   ],
   "source": [
    "day_pings = create_day_ping_dict(day_time,ping_weather_array, servers)\n",
    "day_pings = mean_ping_resp_weather(day_pings, day_time)\n",
    "array_tuple = dictonary_to_tuple(day_pings)\n",
    "array_tuple.sort(key=lambda tup: tup[1])\n",
    "print(array_tuple)"
   ]
  },
  {
   "cell_type": "code",
   "execution_count": 27,
   "metadata": {},
   "outputs": [
    {
     "name": "stdout",
     "output_type": "stream",
     "text": [
      "iperf.biznetnetworks.com\n",
      "[('night', 0.27859913956352134), ('day', 0.2795279174459929)]\n",
      "\n",
      "iperf.eenet.ee\n",
      "[('day', 0.06841033937034975), ('night', 0.06868066258022382)]\n",
      "\n",
      "iperf.scottlinux.com\n",
      "[('night', 0.18801256657652768), ('day', 0.18895350675351233)]\n",
      "\n",
      "speedtest.uztelecom.uz\n",
      "[('night', 0.134906784194454), ('day', 0.13498371058067007)]\n",
      "\n"
     ]
    }
   ],
   "source": [
    "for SERVER in servers:\n",
    "    day_ping_measure_dict = create_day_ping_dict(day_time, ping_weather_array, [SERVER])\n",
    "    day_pings = mean_ping_resp_weather(day_ping_measure_dict, day_time)\n",
    "    array_tuple = dictonary_to_tuple(day_pings)\n",
    "    array_tuple.sort(key=lambda tup: tup[1])\n",
    "    print(SERVER)\n",
    "    print(array_tuple)\n",
    "    print()"
   ]
  },
  {
   "cell_type": "markdown",
   "metadata": {},
   "source": [
    "# Impact of weather on bandwith"
   ]
  },
  {
   "cell_type": "code",
   "execution_count": 28,
   "metadata": {},
   "outputs": [],
   "source": [
    "bw_weather_array = fusion_with_weather(np.array(bw_csv), np.array(weather_csv))\n",
    "#print(bw_weather_array)"
   ]
  },
  {
   "cell_type": "markdown",
   "metadata": {},
   "source": [
    "remove 'NaN' entry in bandwith measure"
   ]
  },
  {
   "cell_type": "code",
   "execution_count": 29,
   "metadata": {},
   "outputs": [],
   "source": [
    "to_delete = []\n",
    "for i in range(len(bw_weather_array)):\n",
    "    if(pd.isna(bw_weather_array[i][1])):\n",
    "        to_delete.append(i)\n",
    "bw_weather_array = np.delete(bw_weather_array, to_delete, axis=0)"
   ]
  },
  {
   "cell_type": "code",
   "execution_count": 30,
   "metadata": {},
   "outputs": [],
   "source": [
    "\"\"\"\n",
    "    Create a dictionnary with key = weather_type and value the ping measure took with this weather\n",
    "\"\"\"\n",
    "def create_weather_bw_dict(weather_type, bw_weather_array):\n",
    "    weather_bw_dict = {}\n",
    "    for type in weather_type:\n",
    "        weather_bw_dict[type] = []\n",
    "\n",
    "    for entry in bw_weather_array:\n",
    "        weather_bw_dict[entry[9].split(\"/\")[7].split(\".\")[0]].append(entry[0:8])\n",
    "    return weather_bw_dict"
   ]
  },
  {
   "cell_type": "code",
   "execution_count": 31,
   "metadata": {},
   "outputs": [],
   "source": [
    "weather_bw = create_weather_bw_dict(weather_type, bw_weather_array)"
   ]
  },
  {
   "cell_type": "code",
   "execution_count": 32,
   "metadata": {},
   "outputs": [],
   "source": [
    "def mean_bw_resp_weather(weather_bw_measure_dict, dl_up):\n",
    "    weather_bw = {}\n",
    "    for type in weather_type:\n",
    "        weather_bw[type] = []\n",
    "\n",
    "    for type in weather_bw_measure_dict.keys():\n",
    "        tot = 0\n",
    "        for mes in weather_bw_measure_dict[type]:\n",
    "            if(dl_up == \"dl\"):\n",
    "                tot += float(mes[5])\n",
    "            elif(dl_up == \"up\"):\n",
    "                tot += float(mes[6])\n",
    "        weather_bw[type] = tot/len(weather_bw_measure_dict[type])\n",
    "    return weather_bw"
   ]
  },
  {
   "cell_type": "markdown",
   "metadata": {},
   "source": [
    "### Download"
   ]
  },
  {
   "cell_type": "code",
   "execution_count": 33,
   "metadata": {},
   "outputs": [
    {
     "name": "stdout",
     "output_type": "stream",
     "text": [
      "[('rain', 10091966.242324686), ('mostcloudy', 11101887.392455338), ('lightsun', 11873770.76763802), ('sun', 12980774.627189485), ('lightrain', 13456727.201031221), ('cover', 14066768.373428904), ('cloudy', 14371402.880900765), ('lightcloudy', 16388380.813759154)]\n"
     ]
    }
   ],
   "source": [
    "mean_bw_weather_dl = mean_bw_resp_weather(weather_bw, \"dl\")\n",
    "array_tuple = dictonary_to_tuple(mean_bw_weather_dl)\n",
    "array_tuple.sort(key=lambda tup: tup[1])\n",
    "print(array_tuple)"
   ]
  },
  {
   "cell_type": "markdown",
   "metadata": {},
   "source": [
    "### Upload"
   ]
  },
  {
   "cell_type": "code",
   "execution_count": 34,
   "metadata": {},
   "outputs": [
    {
     "name": "stdout",
     "output_type": "stream",
     "text": [
      "[('mostcloudy', 8293716.978535255), ('lightsun', 13814685.892383771), ('lightcloudy', 14875551.022743601), ('cover', 15352372.52846293), ('lightrain', 15883545.89980599), ('cloudy', 16394935.96155516), ('sun', 16880582.944300514), ('rain', 18288575.111479066)]\n"
     ]
    }
   ],
   "source": [
    "mean_bw_weather_up = mean_bw_resp_weather(weather_bw, \"up\")\n",
    "array_tuple = dictonary_to_tuple(mean_bw_weather_up)\n",
    "array_tuple.sort(key=lambda tup: tup[1])\n",
    "print(array_tuple)"
   ]
  },
  {
   "cell_type": "code",
   "execution_count": null,
   "metadata": {},
   "outputs": [],
   "source": []
  }
 ],
 "metadata": {
  "kernelspec": {
   "display_name": "Python 3",
   "language": "python",
   "name": "python3"
  },
  "language_info": {
   "codemirror_mode": {
    "name": "ipython",
    "version": 3
   },
   "file_extension": ".py",
   "mimetype": "text/x-python",
   "name": "python",
   "nbconvert_exporter": "python",
   "pygments_lexer": "ipython3",
   "version": "3.8.5"
  }
 },
 "nbformat": 4,
 "nbformat_minor": 4
}
